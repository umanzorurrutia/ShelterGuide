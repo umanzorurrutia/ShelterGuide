{
  "cells": [
    {
      "cell_type": "code",
      "execution_count": 2,
      "metadata": {
        "colab": {
          "base_uri": "https://localhost:8080/"
        },
        "id": "QmZ5NR4CVmor",
        "outputId": "bc2a9959-d8c7-4725-9cc2-02eef3ff87ac"
      },
      "outputs": [
        {
          "output_type": "stream",
          "name": "stdout",
          "text": [
            "fatal: destination path 'hw1' already exists and is not an empty directory.\n"
          ]
        }
      ],
      "source": [
        "# If cloning is needed -- i.e., if hangman.py and word counts are not already\n",
        "# available in file, you can run this\n",
        "!git clone https://github.com/ucsd-cse150a-w25/hw1.git\n",
        "!cp hw1/hangman.py hangman.py\n",
        "!cp hw1/hw1_word_counts_05.txt hw1_word_counts_05.txt"
      ]
    },
    {
      "cell_type": "code",
      "execution_count": 3,
      "metadata": {
        "colab": {
          "base_uri": "https://localhost:8080/"
        },
        "id": "aowBUfbRVmow",
        "outputId": "e23b4aa7-1218-45a6-8a7e-b6dbf35fe619"
      },
      "outputs": [
        {
          "output_type": "stream",
          "name": "stdout",
          "text": [
            "\n",
            "\n",
            "  +---+\n",
            "  O   |\n",
            " /|\\  |\n",
            " /    |\n",
            "     ===\n",
            "\n",
            "Word: T E S T S\n",
            "Tried letters: A, E, I, O, S, T, U, Y\n",
            "Congratulations! You guessed the word:  TESTS\n"
          ]
        },
        {
          "output_type": "execute_result",
          "data": {
            "text/plain": [
              "1"
            ]
          },
          "metadata": {},
          "execution_count": 3
        }
      ],
      "source": [
        "from hangman import hangman_game\n",
        "\n",
        "# Play the game by yourself\n",
        "hangman_game()"
      ]
    },
    {
      "cell_type": "code",
      "execution_count": 41,
      "metadata": {
        "colab": {
          "base_uri": "https://localhost:8080/"
        },
        "id": "jBXJLB8DVmow",
        "outputId": "3510af21-0cb8-4fb2-fd80-b37cd0081308"
      },
      "outputs": [
        {
          "output_type": "stream",
          "name": "stdout",
          "text": [
            "\n",
            "\n",
            "  +---+\n",
            "  O   |\n",
            " /|\\  |\n",
            " / \\  |\n",
            "     ===\n",
            "\n",
            "Word: G _ _ _ _\n",
            "Tried letters: B, D, F, G, H, T, W\n",
            "Game over! The word was:  GIVEN\n"
          ]
        },
        {
          "output_type": "execute_result",
          "data": {
            "text/plain": [
              "0"
            ]
          },
          "metadata": {},
          "execution_count": 41
        }
      ],
      "source": [
        "import random\n",
        "\n",
        "def random_inference(\n",
        "    letters_tried: set[str],\n",
        "    word_pattern: list[str],\n",
        "    word_counts: dict[str, int]\n",
        ") -> str:\n",
        "    '''\n",
        "    Random inference for playing hangman. This should be a simple method which returns a letter\n",
        "    that is NOT in letters_tried but any other letter, at random.\n",
        "\n",
        "    Hint: use the random.choice method\n",
        "    '''\n",
        "    # TODO: Implement random inference code to guess hangman\n",
        "    # Check possible letters and randomize.\n",
        "    letters = ['A','B','C','D','E','F','G','H','I','J','K','L','M',\n",
        "               'N','O','P','Q','R','S','T','U','V','W','X','Y','Z']\n",
        "    possible_letters = []\n",
        "    # If the letter hasn't been used, append it to the list and randomly choose one\n",
        "    for letter in letters:\n",
        "        if letter not in letters_tried:\n",
        "            possible_letters.append(letter)\n",
        "    return random.choice(possible_letters)\n",
        "\n",
        "hangman_game(random_inference)"
      ]
    },
    {
      "cell_type": "code",
      "execution_count": 56,
      "metadata": {
        "id": "CGmWBdsXM4cN"
      },
      "outputs": [],
      "source": [
        "from collections import defaultdict, Counter\n",
        "\n",
        "def bayesian_inference(\n",
        "    letters_tried: set[str],\n",
        "    word_pattern: list[str],\n",
        "    word_counts: dict[str, int]\n",
        ") -> str:\n",
        "    '''\n",
        "    Improved Bayesian inference method for Hangman using posterior and predictive probabilities.\n",
        "    '''\n",
        "    # Step 1: Compute posterior probabilities P(W | O)\n",
        "    probable_words = {}\n",
        "    total_prior = 0\n",
        "\n",
        "    for word, count in word_counts.items():\n",
        "        # Ensure word matches the known pattern and doesn't contain incorrect guesses\n",
        "        if all(wp == '_' or wp == w for wp, w in zip(word_pattern, word)) and \\\n",
        "           not any(letter in word and letter not in word_pattern for letter in letters_tried):\n",
        "            probable_words[word] = count\n",
        "            total_prior += count\n",
        "\n",
        "    if total_prior == 0:\n",
        "        # If no words match, pick a random letter that hasn’t been tried\n",
        "        return random.choice(list(set('ABCDEFGHIJKLMNOPQRSTUVWXYZ') - letters_tried))\n",
        "\n",
        "    # Normalize to get posterior probabilities\n",
        "    posterior_probs = {word: count / total_prior for word, count in probable_words.items()}\n",
        "\n",
        "    # Step 2: Compute predictive probabilities P(L | O)\n",
        "    letter_probabilities = defaultdict(float)\n",
        "\n",
        "    for word, prob in posterior_probs.items():\n",
        "        for letter in set(word):  # Avoid duplicate counts within the same word\n",
        "            if letter not in letters_tried:\n",
        "                letter_probabilities[letter] += prob  # Weighted probability\n",
        "\n",
        "    # Step 3: Choose the letter with the highest predictive probability\n",
        "    return max(letter_probabilities, key=letter_probabilities.get, default=random.choice(list(set('ABCDEFGHIJKLMNOPQRSTUVWXYZ') - letters_tried)))\n"
      ]
    },
    {
      "cell_type": "code",
      "execution_count": 57,
      "metadata": {
        "colab": {
          "base_uri": "https://localhost:8080/"
        },
        "id": "Tpi14YTOVmoy",
        "outputId": "19466354-de69-43ba-d783-b0cc6866ed09"
      },
      "outputs": [
        {
          "output_type": "stream",
          "name": "stderr",
          "text": [
            "100%|██████████| 1000/1000 [00:03<00:00, 256.78it/s]\n"
          ]
        },
        {
          "output_type": "stream",
          "name": "stdout",
          "text": [
            "Accuracy: 0.4%\n"
          ]
        },
        {
          "output_type": "stream",
          "name": "stderr",
          "text": [
            "100%|██████████| 1000/1000 [01:12<00:00, 13.88it/s]"
          ]
        },
        {
          "output_type": "stream",
          "name": "stdout",
          "text": [
            "Accuracy: 2.8000000000000003%\n"
          ]
        },
        {
          "output_type": "stream",
          "name": "stderr",
          "text": [
            "\n"
          ]
        }
      ],
      "source": [
        "from typing import Optional, Callable\n",
        "from tqdm import tqdm\n",
        "\n",
        "def benchmark(\n",
        "    inference: Optional[Callable],\n",
        "    num_runs: int = 1000,\n",
        "    seed: int = 0\n",
        ") -> None:\n",
        "    '''\n",
        "    Benchmark method for testing out the bayesian inference method. The parameters given are:\n",
        "\n",
        "    - inference: The function that should match the bayesian_inference() method above.\n",
        "    - seed: The seed to pass into the hangman_game function.\n",
        "\n",
        "    Return type: none.\n",
        "\n",
        "    Print the accuracy out of num_runs. If the function throws an error, it should count as a fail.\n",
        "    '''\n",
        "    # TODO: Implement benchmark testing for a given function\n",
        "    # Hint: use `random.seed(seed)` ONCE at the start\n",
        "    # Hint: pass `interactive = False` into the hangman_game function to run faster without outputs.\n",
        "    # Optional: use the `tqdm` module to keep track of the evaluation progress.\n",
        "\n",
        "    random.seed(seed)\n",
        "    correct = 0\n",
        "\n",
        "    for _ in tqdm(range(num_runs)):\n",
        "        try:\n",
        "            result = hangman_game(inference, interactive = False)\n",
        "            if result == 1:\n",
        "                correct += 1\n",
        "        except:\n",
        "            pass\n",
        "\n",
        "\n",
        "    accuracy = (correct / num_runs) * 100\n",
        "\n",
        "    print(f\"Accuracy: {accuracy}%\")\n",
        "\n",
        "benchmark(random_inference)\n",
        "benchmark(bayesian_inference)"
      ]
    }
  ],
  "metadata": {
    "colab": {
      "provenance": []
    },
    "kernelspec": {
      "display_name": "Python 3",
      "name": "python3"
    },
    "language_info": {
      "codemirror_mode": {
        "name": "ipython",
        "version": 3
      },
      "file_extension": ".py",
      "mimetype": "text/x-python",
      "name": "python",
      "nbconvert_exporter": "python",
      "pygments_lexer": "ipython3",
      "version": "3.11.0"
    }
  },
  "nbformat": 4,
  "nbformat_minor": 0
}